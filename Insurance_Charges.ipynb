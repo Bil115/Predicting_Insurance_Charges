{
 "cells": [
  {
   "cell_type": "markdown",
   "id": "27bceae5-e274-4b2c-93c5-a97bbe3834c5",
   "metadata": {},
   "source": [
    "# Insurance Charges Prediction Project\n",
    "\n",
    "## Objective\n",
    "To predict insurance charges using demographic and health-related data, leveraging supervised learning techniques.\n",
    "\n",
    "## Problem Statement\n",
    "How can we accurately estimate a customer’s insurance charges based on features like age, BMI, smoking status, and region?\n",
    "\n",
    "## Hypotheses\n",
    "1. Smoking status will be a major determinant of insurance charges.\n",
    "2. Charges will increase with BMI and age.\n",
    "\n",
    "## Success Metrics\n",
    "- R² Score\n",
    "- Mean Absolute Error (MAE)\n",
    "- Root Mean Squared Error (MSE)\n",
    "\n",
    "## Tools and Techniques\n",
    "- **Tools**: Python, Jupyter Notebook, scikit-learn, matplotlib.\n",
    "- **Techniques**: Regression models, feature engineering, and hyperparameter tuning.\n",
    "\n",
    "## Workflow\n",
    "1. Load and explore the data.\n",
    "2. Perform EDA and visualization.\n",
    "3. Preprocess the data.\n",
    "4. Train multiple models and tune hyperparameters.\n",
    "5. Evaluate the models using metrics.\n",
    "6. Interpret the results and draw insights.\n",
    "7. Summarize findings in a report."
   ]
  },
  {
   "cell_type": "markdown",
   "id": "0f8e5b4b-53e6-4a99-aa7c-14b70397233c",
   "metadata": {},
   "source": [
    "LOADING THE DATASET"
   ]
  },
  {
   "cell_type": "code",
   "execution_count": 5,
   "id": "4d15ccf5-32d8-493f-964c-c1efde8c9e1d",
   "metadata": {},
   "outputs": [
    {
     "name": "stdout",
     "output_type": "stream",
     "text": [
      "Collecting openpyxl\n",
      "  Downloading openpyxl-3.1.5-py2.py3-none-any.whl.metadata (2.5 kB)\n",
      "Collecting et-xmlfile (from openpyxl)\n",
      "  Downloading et_xmlfile-2.0.0-py3-none-any.whl.metadata (2.7 kB)\n",
      "Downloading openpyxl-3.1.5-py2.py3-none-any.whl (250 kB)\n",
      "   ---------------------------------------- 0.0/250.9 kB ? eta -:--:--\n",
      "   ---- ---------------------------------- 30.7/250.9 kB 660.6 kB/s eta 0:00:01\n",
      "   ---- ---------------------------------- 30.7/250.9 kB 660.6 kB/s eta 0:00:01\n",
      "   ------ -------------------------------- 41.0/250.9 kB 245.8 kB/s eta 0:00:01\n",
      "   ------------ -------------------------- 81.9/250.9 kB 416.7 kB/s eta 0:00:01\n",
      "   -------------- ------------------------ 92.2/250.9 kB 403.5 kB/s eta 0:00:01\n",
      "   -------------- ------------------------ 92.2/250.9 kB 403.5 kB/s eta 0:00:01\n",
      "   --------------------- ---------------- 143.4/250.9 kB 405.9 kB/s eta 0:00:01\n",
      "   ---------------------------------- --- 225.3/250.9 kB 550.0 kB/s eta 0:00:01\n",
      "   -------------------------------------  245.8/250.9 kB 537.7 kB/s eta 0:00:01\n",
      "   -------------------------------------- 250.9/250.9 kB 497.3 kB/s eta 0:00:00\n",
      "Downloading et_xmlfile-2.0.0-py3-none-any.whl (18 kB)\n",
      "Installing collected packages: et-xmlfile, openpyxl\n",
      "Successfully installed et-xmlfile-2.0.0 openpyxl-3.1.5\n",
      "Note: you may need to restart the kernel to use updated packages.\n"
     ]
    },
    {
     "name": "stderr",
     "output_type": "stream",
     "text": [
      "\n",
      "[notice] A new release of pip is available: 24.1.2 -> 24.3.1\n",
      "[notice] To update, run: python.exe -m pip install --upgrade pip\n"
     ]
    }
   ],
   "source": [
    "pip install openpyxl\n"
   ]
  },
  {
   "cell_type": "code",
   "execution_count": 7,
   "id": "b4b75f7e-9d09-4909-9489-98467133649a",
   "metadata": {},
   "outputs": [],
   "source": [
    "# Load the dataset\n",
    "file_path = \"C:/Users/Admin/Desktop/Insurance_Charges_Prediction/insurance.xlsx\"\n",
    "insurance_df = pd.read_excel(file_path)"
   ]
  },
  {
   "cell_type": "code",
   "execution_count": null,
   "id": "4db6292f-3386-4f08-82ae-3f247b3638b1",
   "metadata": {},
   "outputs": [],
   "source": []
  }
 ],
 "metadata": {
  "kernelspec": {
   "display_name": "Python 3 (ipykernel)",
   "language": "python",
   "name": "python3"
  },
  "language_info": {
   "codemirror_mode": {
    "name": "ipython",
    "version": 3
   },
   "file_extension": ".py",
   "mimetype": "text/x-python",
   "name": "python",
   "nbconvert_exporter": "python",
   "pygments_lexer": "ipython3",
   "version": "3.10.0"
  }
 },
 "nbformat": 4,
 "nbformat_minor": 5
}
